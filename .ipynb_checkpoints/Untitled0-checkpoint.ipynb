{
 "metadata": {
  "name": "",
  "signature": "sha256:912b4f69569baab2fbc05b47cb51275c904165ed622ffb7186e48bdac53bf1e8"
 },
 "nbformat": 3,
 "nbformat_minor": 0,
 "worksheets": [
  {
   "cells": [
    {
     "cell_type": "code",
     "collapsed": false,
     "input": [
      "import shelve\n",
      "from heapq import heappush\n",
      "from collections import defaultdict\n"
     ],
     "language": "python",
     "metadata": {},
     "outputs": [],
     "prompt_number": 37
    },
    {
     "cell_type": "code",
     "collapsed": false,
     "input": [
      "d=shelve.open('data.shelve')\n"
     ],
     "language": "python",
     "metadata": {},
     "outputs": [],
     "prompt_number": 38
    },
    {
     "cell_type": "code",
     "collapsed": false,
     "input": [
      "with open(\"queryresult\") as f:\n",
      "    for line in f.readlines():\n",
      "        ret = defaultdict(int)\n",
      "        key=line.split(\"=>\")[0]\n",
      "        example=line.split(\"=>\")[1].split(\",\")\n",
      "#         for item in example:\n",
      "#             ret[item.split(\"\\t\")[0]]=item.split(\"\\t\")[1]\n",
      "#         d[key]=ret\n",
      "        d[key]=example\n",
      "#         key2=line.split(\"=>\")[1].split(\"\\t\")[0]\n",
      "#         value=line.split(\"=>\")[1].split(\"\\t\")[1]\n",
      "#         d[key]="
     ],
     "language": "python",
     "metadata": {},
     "outputs": [],
     "prompt_number": 39
    },
    {
     "cell_type": "code",
     "collapsed": false,
     "input": [
      "d.close()"
     ],
     "language": "python",
     "metadata": {},
     "outputs": [],
     "prompt_number": 30
    },
    {
     "cell_type": "code",
     "collapsed": false,
     "input": [
      "d=shelve.open('data.shelve')\n"
     ],
     "language": "python",
     "metadata": {},
     "outputs": [],
     "prompt_number": 31
    },
    {
     "cell_type": "code",
     "collapsed": false,
     "input": [
      "list.sort?"
     ],
     "language": "python",
     "metadata": {},
     "outputs": [],
     "prompt_number": 25
    },
    {
     "cell_type": "code",
     "collapsed": false,
     "input": [
      "sorted?"
     ],
     "language": "python",
     "metadata": {},
     "outputs": [],
     "prompt_number": 26
    },
    {
     "cell_type": "code",
     "collapsed": false,
     "input": [
      "if True:\n",
      "    query = raw_input(\"please give the query\")\n",
      "    if query in d:\n",
      "        print d[query][:100]\n",
      "#         for item in d[query]:\n",
      "#             print item,d[query][item]"
     ],
     "language": "python",
     "metadata": {},
     "outputs": [
      {
       "name": "stdout",
       "output_type": "stream",
       "stream": "stdout",
       "text": [
        "please give the query_ _ _\n"
       ]
      },
      {
       "output_type": "stream",
       "stream": "stdout",
       "text": [
        "['in this paper\\t2004', 'we present a\\t602', 'as well as\\t584', 'we show that\\t447', 'the number of\\t436', 'a variety of\\t195', 'due to the\\t190', 'we show how\\t156', 'the amp quot\\t141', 'the results of\\t137', 'we study the\\t129', 'the need for\\t124', 'large number of\\t115', 'have been proposed\\t112', 'the application of\\t109', 'in this work\\t104', 'we focus on\\t104', 'of the most\\t103', 'the set of\\t99', 'a amp quot\\t98', 'is possible to\\t92', 'in real time\\t90', 'be applied to\\t90', 'is one of\\t89', 'the purpose of\\t83', 'paper proposes a\\t82', 'size of the\\t82', 'experimental results show\\t77', 'goal is to\\t77', 'need to be\\t77', 'and show that\\t77', 'respect to the\\t77', 'in the presence\\t76', 'focus on the\\t74', 'in the literature\\t71', 'a new method\\t70', 'and can be\\t65', 'on top of\\t64', 'the algorithm is\\t64', 'we develop a\\t64', 'in this article\\t61', 'an extension of\\t60', 'it has been\\t60', 'has been developed\\t59', 'the field of\\t59', 'the world wide\\t58', 'paper we show\\t58', 'a class of\\t58', 'we provide a\\t58', 'as part of\\t56', 'for a given\\t55', 'features of the\\t55', 'paper we discuss\\t55', 'in such a\\t54', 'efficiency of the\\t53', 'characteristics of the\\t52', 'we propose to\\t52', 'results of the\\t51', 'the proposed approach\\t50', 'which is a\\t50', 'show how the\\t50', 'the problem is\\t49', 'the most important\\t49', 'the nature of\\t48', 'it does not\\t48', 'this paper focuses\\t48', 'of the internet\\t47', 'each of the\\t46', 'more and more\\t46', 'to find the\\t44', 'algorithm for the\\t44', 'representation of the\\t44', 'the proposed algorithm\\t44', 'of the two\\t44', 'of a set\\t44', 'is capable of\\t44', 'amp quot the\\t43', 'purpose of this\\t43', 'solution to the\\t43', 'we describe how\\t43', 'this approach is\\t42', 'of the original\\t42', 'in conjunction with\\t42', 'is achieved by\\t41', 'parts of the\\t41', 'show that a\\t41', 'the usefulness of\\t40', 'was used to\\t39', 'of real time\\t39', 'independent of the\\t39', 'the theory of\\t38', 'of a new\\t38', 'the paper describes\\t38', 'the properties of\\t38', 'a system that\\t37', 'approach is based\\t37', 'new method for\\t37', 'there has been\\t37', 'of the new\\t37', 'a factor of\\t36']\n"
       ]
      }
     ],
     "prompt_number": 40
    },
    {
     "cell_type": "code",
     "collapsed": false,
     "input": [
      "a = {i : i for i in range(100000)}"
     ],
     "language": "python",
     "metadata": {},
     "outputs": [],
     "prompt_number": 21
    },
    {
     "cell_type": "code",
     "collapsed": false,
     "input": [
      "%timeit 'q' in a"
     ],
     "language": "python",
     "metadata": {},
     "outputs": [
      {
       "output_type": "stream",
       "stream": "stdout",
       "text": [
        "10000000 loops, best of 3: 53.7 ns per loop\n"
       ]
      }
     ],
     "prompt_number": 23
    },
    {
     "cell_type": "code",
     "collapsed": false,
     "input": [],
     "language": "python",
     "metadata": {},
     "outputs": []
    }
   ],
   "metadata": {}
  }
 ]
}