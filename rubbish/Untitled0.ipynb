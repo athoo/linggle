{
 "metadata": {
  "name": "",
  "signature": "sha256:1aa5d978e908e846f4cdfcba01921e7fe26c354e5611be623ba403cb009aaaf0"
 },
 "nbformat": 3,
 "nbformat_minor": 0,
 "worksheets": [
  {
   "cells": [
    {
     "cell_type": "code",
     "collapsed": false,
     "input": [
      "import shelve\n",
      "from heapq import heappush\n",
      "from collections import defaultdict\n"
     ],
     "language": "python",
     "metadata": {},
     "outputs": [],
     "prompt_number": 1
    },
    {
     "cell_type": "code",
     "collapsed": false,
     "input": [
      "d=shelve.open('data.shelve')\n"
     ],
     "language": "python",
     "metadata": {},
     "outputs": [],
     "prompt_number": 2
    },
    {
     "cell_type": "code",
     "collapsed": false,
     "input": [
      "with open(\"queryresult\") as f:\n",
      "    for line in f.readlines():\n",
      "        ret = defaultdict(int)\n",
      "        key=line.split(\"=>\")[0]\n",
      "        example=line.split(\"=>\")[1].split(\",\")\n",
      "#         for item in example:\n",
      "#             ret[item.split(\"\\t\")[0]]=item.split(\"\\t\")[1]\n",
      "#         d[key]=ret\n",
      "        d[key]=example\n",
      "#         key2=line.split(\"=>\")[1].split(\"\\t\")[0]\n",
      "#         value=line.split(\"=>\")[1].split(\"\\t\")[1]\n",
      "#         d[key]="
     ],
     "language": "python",
     "metadata": {},
     "outputs": [],
     "prompt_number": 39
    },
    {
     "cell_type": "code",
     "collapsed": false,
     "input": [
      "d.close()"
     ],
     "language": "python",
     "metadata": {},
     "outputs": [],
     "prompt_number": 7
    },
    {
     "cell_type": "code",
     "collapsed": false,
     "input": [
      "d=shelve.open('data.shelve')\n"
     ],
     "language": "python",
     "metadata": {},
     "outputs": [],
     "prompt_number": 31
    },
    {
     "cell_type": "code",
     "collapsed": false,
     "input": [
      "list.sort?"
     ],
     "language": "python",
     "metadata": {},
     "outputs": [],
     "prompt_number": 3
    },
    {
     "cell_type": "code",
     "collapsed": false,
     "input": [
      "sorted?"
     ],
     "language": "python",
     "metadata": {},
     "outputs": [],
     "prompt_number": 4
    },
    {
     "cell_type": "code",
     "collapsed": false,
     "input": [
      "if True:\n",
      "    query = raw_input(\"please give the query\")\n",
      "    if query in d:\n",
      "        print d[query][:100]\n",
      "#         for item in d[query]:\n",
      "#             print item,d[query][item]"
     ],
     "language": "python",
     "metadata": {},
     "outputs": [
      {
       "name": "stdout",
       "output_type": "stream",
       "stream": "stdout",
       "text": [
        "please give the querythe role _\n"
       ]
      },
      {
       "output_type": "stream",
       "stream": "stdout",
       "text": [
        "['the role and\\t3\\n']\n"
       ]
      }
     ],
     "prompt_number": 6
    },
    {
     "cell_type": "code",
     "collapsed": false,
     "input": [
      "a = {i : i for i in range(100000)}"
     ],
     "language": "python",
     "metadata": {},
     "outputs": [],
     "prompt_number": 21
    },
    {
     "cell_type": "code",
     "collapsed": false,
     "input": [
      "%timeit 'q' in a"
     ],
     "language": "python",
     "metadata": {},
     "outputs": [
      {
       "output_type": "stream",
       "stream": "stdout",
       "text": [
        "10000000 loops, best of 3: 53.7 ns per loop\n"
       ]
      }
     ],
     "prompt_number": 23
    },
    {
     "cell_type": "code",
     "collapsed": false,
     "input": [],
     "language": "python",
     "metadata": {},
     "outputs": []
    }
   ],
   "metadata": {}
  }
 ]
}