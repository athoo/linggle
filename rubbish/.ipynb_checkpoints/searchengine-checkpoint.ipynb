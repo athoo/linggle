{
 "metadata": {
  "name": "",
  "signature": "sha256:362e488c2d379ad01f13299729023b4b49358729283440e2cc5892b471f3338d"
 },
 "nbformat": 3,
 "nbformat_minor": 0,
 "worksheets": [
  {
   "cells": [
    {
     "cell_type": "code",
     "collapsed": false,
     "input": [
      "import shelve"
     ],
     "language": "python",
     "metadata": {},
     "outputs": [],
     "prompt_number": 1
    },
    {
     "cell_type": "code",
     "collapsed": false,
     "input": [
      "d=shelve.open('data.shelve')"
     ],
     "language": "python",
     "metadata": {},
     "outputs": [],
     "prompt_number": 3
    },
    {
     "cell_type": "code",
     "collapsed": false,
     "input": [
      "if True:\n",
      "    query = raw_input(\"please give the query:\\n\")\n",
      "    if query in d:\n",
      "        result = d[query][:100]\n",
      "        print \"\\n\".join(result)"
     ],
     "language": "python",
     "metadata": {},
     "outputs": [
      {
       "name": "stdout",
       "output_type": "stream",
       "stream": "stdout",
       "text": [
        "please give the query:\n",
        "paper _\n"
       ]
      },
      {
       "output_type": "stream",
       "stream": "stdout",
       "text": [
        "paper the\t73\n",
        "paper examines\t49\n",
        "paper aims\t22\n",
        "paper i\t21\n",
        "paper was\t16\n",
        "paper uses\t13\n",
        "paper makes\t10\n",
        "paper extends\t9\n",
        "paper attempts\t7\n",
        "paper as\t6\n",
        "paper explains\t5\n",
        "paper analyses\t5\n",
        "paper tests\t4\n",
        "paper with\t4\n",
        "paper thus\t4\n",
        "\n"
       ]
      }
     ],
     "prompt_number": 9
    },
    {
     "cell_type": "code",
     "collapsed": false,
     "input": [],
     "language": "python",
     "metadata": {},
     "outputs": []
    }
   ],
   "metadata": {}
  }
 ]
}